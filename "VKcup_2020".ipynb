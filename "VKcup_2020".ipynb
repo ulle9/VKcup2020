{
  "nbformat": 4,
  "nbformat_minor": 0,
  "metadata": {
    "colab": {
      "name": "\"VKcup_2020.ipynb\"",
      "provenance": [],
      "collapsed_sections": [],
      "mount_file_id": "1mP7X6F0D5d37Ak0z536jPnop3khDB6UU",
      "authorship_tag": "ABX9TyO3JKoSxAvX11+EoFOcSKkb"
    },
    "kernelspec": {
      "name": "python3",
      "display_name": "Python 3"
    }
  },
  "cells": [
    {
      "cell_type": "code",
      "metadata": {
        "id": "nzggvEWNz-BA",
        "colab_type": "code",
        "colab": {
          "base_uri": "https://localhost:8080/",
          "height": 269
        },
        "outputId": "30a58888-70ad-4890-8e00-5d27f937b96a"
      },
      "source": [
        "!pip install catboost"
      ],
      "execution_count": null,
      "outputs": [
        {
          "output_type": "stream",
          "text": [
            "Requirement already satisfied: catboost in /usr/local/lib/python3.6/dist-packages (0.22)\n",
            "Requirement already satisfied: numpy>=1.16.0 in /usr/local/lib/python3.6/dist-packages (from catboost) (1.17.5)\n",
            "Requirement already satisfied: pandas>=0.24.0 in /usr/local/lib/python3.6/dist-packages (from catboost) (0.25.3)\n",
            "Requirement already satisfied: graphviz in /usr/local/lib/python3.6/dist-packages (from catboost) (0.10.1)\n",
            "Requirement already satisfied: scipy in /usr/local/lib/python3.6/dist-packages (from catboost) (1.4.1)\n",
            "Requirement already satisfied: plotly in /usr/local/lib/python3.6/dist-packages (from catboost) (4.4.1)\n",
            "Requirement already satisfied: matplotlib in /usr/local/lib/python3.6/dist-packages (from catboost) (3.1.3)\n",
            "Requirement already satisfied: six in /usr/local/lib/python3.6/dist-packages (from catboost) (1.12.0)\n",
            "Requirement already satisfied: python-dateutil>=2.6.1 in /usr/local/lib/python3.6/dist-packages (from pandas>=0.24.0->catboost) (2.6.1)\n",
            "Requirement already satisfied: pytz>=2017.2 in /usr/local/lib/python3.6/dist-packages (from pandas>=0.24.0->catboost) (2018.9)\n",
            "Requirement already satisfied: retrying>=1.3.3 in /usr/local/lib/python3.6/dist-packages (from plotly->catboost) (1.3.3)\n",
            "Requirement already satisfied: pyparsing!=2.0.4,!=2.1.2,!=2.1.6,>=2.0.1 in /usr/local/lib/python3.6/dist-packages (from matplotlib->catboost) (2.4.6)\n",
            "Requirement already satisfied: kiwisolver>=1.0.1 in /usr/local/lib/python3.6/dist-packages (from matplotlib->catboost) (1.1.0)\n",
            "Requirement already satisfied: cycler>=0.10 in /usr/local/lib/python3.6/dist-packages (from matplotlib->catboost) (0.10.0)\n",
            "Requirement already satisfied: setuptools in /usr/local/lib/python3.6/dist-packages (from kiwisolver>=1.0.1->matplotlib->catboost) (45.2.0)\n"
          ],
          "name": "stdout"
        }
      ]
    },
    {
      "cell_type": "code",
      "metadata": {
        "id": "hHSUGmyvzt56",
        "colab_type": "code",
        "colab": {
          "base_uri": "https://localhost:8080/",
          "height": 34
        },
        "outputId": "427cd40a-6986-4091-a949-255d2e28de7d"
      },
      "source": [
        "import pandas as pd\n",
        "import numpy as np\n",
        "import sys\n",
        "from catboost import CatBoostRegressor\n",
        "\n",
        "from google.colab import drive\n",
        "drive.mount('/content/drive')"
      ],
      "execution_count": null,
      "outputs": [
        {
          "output_type": "stream",
          "text": [
            "Drive already mounted at /content/drive; to attempt to forcibly remount, call drive.mount(\"/content/drive\", force_remount=True).\n"
          ],
          "name": "stdout"
        }
      ]
    },
    {
      "cell_type": "code",
      "metadata": {
        "id": "Hnt3uWqEzwaf",
        "colab_type": "code",
        "colab": {}
      },
      "source": [
        "#DATA\n",
        "# df_users = pd.read_csv(r'/content/drive/My Drive/vkcup/users.tsv', delimiter='\\t')\n",
        "df_history = pd.read_csv(r'/content/drive/My Drive/vkcup/history.tsv', delimiter='\\t')\n",
        "df_test = pd.read_csv(r'/content/drive/My Drive/vkcup/validate.tsv', delimiter='\\t')\n",
        "# df_asc_feat = pd.read_csv(r'/content/drive/My Drive/vkcup/acs_feat.csv', index_col=0)\n",
        "# df_hist_feats = pd.read_csv(r'/content/drive/My Drive/vkcup/df_hist_feats.csv', index_col=0)"
      ],
      "execution_count": null,
      "outputs": []
    },
    {
      "cell_type": "code",
      "metadata": {
        "id": "KsKHE7yk-RKj",
        "colab_type": "code",
        "colab": {}
      },
      "source": [
        "# def series_to_matrix(x, matrix):\n",
        "#   n=0\n",
        "#   for i in x:\n",
        "#     for j in [int(k) for k in i.split(',')]:\n",
        "#       # print(n,j-1)\n",
        "#       matrix[n,j-1] = 1\n",
        "#     n+=1"
      ],
      "execution_count": null,
      "outputs": []
    },
    {
      "cell_type": "code",
      "metadata": {
        "colab_type": "code",
        "id": "ZRioFeeHiEFi",
        "colab": {}
      },
      "source": [
        "# # BIG MATRIX CREATION\n",
        "# publishers = np.zeros([DF0.shape[0], 21]).astype(int)\n",
        "# series_to_matrix(DF0.publishers, publishers)\n",
        "# print(publishers.shape)\n",
        "# users = np.zeros([DF0.shape[0], 27768]).astype(int)\n",
        "# series_to_matrix(DF0.user_ids, users)\n",
        "# print(users.shape)"
      ],
      "execution_count": null,
      "outputs": []
    },
    {
      "cell_type": "markdown",
      "metadata": {
        "id": "BggKZW_5A_I2",
        "colab_type": "text"
      },
      "source": [
        "# DATA EXPLORATION"
      ]
    },
    {
      "cell_type": "code",
      "metadata": {
        "id": "8Ywn1gI6chnl",
        "colab_type": "code",
        "colab": {}
      },
      "source": [
        "# import seaborn as sns\n",
        "# df_users = pd.read_csv(r'/content/drive/My Drive/vkcup/users.tsv', delimiter='\\t')\n",
        "# df_history = pd.read_csv(r'/content/drive/My Drive/vkcup/history.tsv', delimiter='\\t')\n",
        "# df_test = pd.read_csv(r'/content/drive/My Drive/vkcup/validate.tsv', delimiter='\\t')"
      ],
      "execution_count": null,
      "outputs": []
    },
    {
      "cell_type": "code",
      "metadata": {
        "id": "hmAh5chw_v7J",
        "colab_type": "code",
        "colab": {}
      },
      "source": [
        "# days = df_test.hour_start//24\n",
        "# sns.lineplot(days.value_counts().index, days.value_counts())"
      ],
      "execution_count": null,
      "outputs": []
    },
    {
      "cell_type": "code",
      "metadata": {
        "id": "uiWKjAROA6LZ",
        "colab_type": "code",
        "colab": {}
      },
      "source": [
        "# days = df_test.hour_end//24\n",
        "# sns.lineplot(days.value_counts().index, days.value_counts())"
      ],
      "execution_count": null,
      "outputs": []
    },
    {
      "cell_type": "code",
      "metadata": {
        "id": "BC86uGuIwGU5",
        "colab_type": "code",
        "colab": {}
      },
      "source": [
        "# # PUBLISHERS HISTORY U VALIDATE\n",
        "# df_publisher_dummies = pd.get_dummies(df_history['publisher'])\n",
        "# df_history1 = df_history.merge(df_publisher_dummies, left_index=True, right_index=True)\n",
        "# hist_feats1 = df_history1[[1,2,3,4,5,6,7,8,9,10,11,12,13,14,15,16,17,18,19,20,21,'user_id']].groupby('user_id').sum().astype(int)"
      ],
      "execution_count": null,
      "outputs": []
    },
    {
      "cell_type": "code",
      "metadata": {
        "id": "LTBHM-L1IMBv",
        "colab_type": "code",
        "colab": {}
      },
      "source": [
        "# def func_hist_publ(string,col):\n",
        "#   q = np.array([int(i) for i in string.split(',')])\n",
        "#   return hist_feats1.loc[q,col].sum()\n",
        "\n",
        "# df_func_hist_publ = pd.DataFrame(np.zeros([1008, 21]).astype(int), columns=np.array(np.arange(1,22)))\n",
        "\n",
        "# for p in range(1,22):\n",
        "#   df_func_hist_publ.iloc[:, p-1] = df_test.user_ids.apply(func_hist_publ, col=p)\n",
        "\n",
        "# df_hist_feats1 = pd.DataFrame(df_func_hist_publ.astype(int))\n",
        "# df_hist_feats1 = df_hist_feats1.merge(df_test['publishers'].apply(lambda x: [int(i) for i in x.split(',')]), left_index=True, right_index=True)"
      ],
      "execution_count": null,
      "outputs": []
    },
    {
      "cell_type": "code",
      "metadata": {
        "id": "t-GGJWPxXa6v",
        "colab_type": "code",
        "colab": {}
      },
      "source": [
        "# def func_publ_ratio(series):\n",
        "#   pr = []\n",
        "#   for i in series['publishers']:\n",
        "#     pr.append(series[i])\n",
        "#   return sum(pr)/series[:-1].sum()\n",
        "\n",
        "# publ_ratio = df_hist_feats1.apply(func_publ_ratio, axis=1)\n",
        "# p_one = df_hist_feats1['publishers'].apply(lambda x: sum(1 for i in x if i==1))\n",
        "# df_publishers = pd.DataFrame({'publ_ratio':publ_ratio, 'p_one': p_one})\n",
        "# df_publishers\n"
      ],
      "execution_count": null,
      "outputs": []
    },
    {
      "cell_type": "markdown",
      "metadata": {
        "id": "1WORTqwfVH8x",
        "colab_type": "text"
      },
      "source": [
        "# HISTORY FEATURE ENGINEERING"
      ]
    },
    {
      "cell_type": "code",
      "metadata": {
        "id": "r2hkYq0dHpb1",
        "colab_type": "code",
        "colab": {}
      },
      "source": [
        "#DELTA HOUR\n",
        "delta_hour = df_test.hour_end - df_test.hour_start\n",
        "df_delta_hour = pd.DataFrame(delta_hour, columns = ['delta_hour']) \n",
        "# #audience_size/delta\n",
        "# audsize_delta = (df_delta_hour.values.reshape(1,-1))/(DF0.audience_size.values.reshape(1,-1))\n",
        "# df_audsize_delta = pd.DataFrame(audsize_delta.reshape(-1,1),  columns = ['audsize_delta']) \n",
        "# #cpm*delta\n",
        "# cpm_delta = df_delta_hour.values.reshape(1,-1)*DF0.cpm.values.reshape(1,-1)\n",
        "# df_cpm_delta = pd.DataFrame(cpm_delta.reshape(-1,1), columns = ['cpm_delta']) "
      ],
      "execution_count": null,
      "outputs": []
    },
    {
      "cell_type": "code",
      "metadata": {
        "id": "2HkiiKiZB4ub",
        "colab_type": "code",
        "colab": {}
      },
      "source": [
        "hist_feats = df_history[['cpm','hour','user_id']].groupby('user_id').agg({'cpm':'mean', 'hour':'count'}).\\\n",
        "  rename(columns={'cpm':'cpm_mean', 'hour':'show_counts'})"
      ],
      "execution_count": null,
      "outputs": []
    },
    {
      "cell_type": "code",
      "metadata": {
        "id": "bMdByLJ6SSPT",
        "colab_type": "code",
        "colab": {
          "base_uri": "https://localhost:8080/",
          "height": 134
        },
        "outputId": "73e9cba5-0177-4b7e-d7c1-7243008cbd2d"
      },
      "source": [
        "# HISTORY CPM & COUNT NEW\n",
        "def func_hist_cpm(string):\n",
        "  q = np.array([int(i) for i in string.split(',')])\n",
        "  return hist_feats.loc[q,'cpm_mean'].sum()/len(q)\n",
        "def func_hist_count(string):\n",
        "  q = np.array([int(i) for i in string.split(',')])\n",
        "  return hist_feats.loc[q,'show_counts'].sum()/len(q)\n",
        "\n",
        "df_func_hist_cpm = df_test.user_ids.apply(func_hist_cpm)\n",
        "df_func_hist_count = df_test.user_ids.apply(func_hist_count)\n",
        "df_hist_feats = pd.DataFrame({'0':df_func_hist_cpm, '1': df_func_hist_count})"
      ],
      "execution_count": null,
      "outputs": [
        {
          "output_type": "stream",
          "text": [
            "/usr/local/lib/python3.6/dist-packages/pandas/core/indexing.py:961: FutureWarning: \n",
            "Passing list-likes to .loc or [] with any missing label will raise\n",
            "KeyError in the future, you can use .reindex() as an alternative.\n",
            "\n",
            "See the documentation here:\n",
            "https://pandas.pydata.org/pandas-docs/stable/user_guide/indexing.html#deprecate-loc-reindex-listlike\n",
            "  return getattr(section, self.name)[new_key]\n"
          ],
          "name": "stderr"
        }
      ]
    },
    {
      "cell_type": "code",
      "metadata": {
        "id": "PfBLKLQHJErw",
        "colab_type": "code",
        "colab": {}
      },
      "source": [
        "# PUBLISHERS FEATURES\n",
        "df_publisher_dummies = pd.get_dummies(df_history['publisher'])\n",
        "df_history1 = df_history.merge(df_publisher_dummies, left_index=True, right_index=True)\n",
        "hist_feats1 = df_history1[[1,2,3,4,5,6,7,8,9,10,11,12,13,14,15,16,17,18,19,20,21,'user_id']].groupby('user_id').sum().astype(int)"
      ],
      "execution_count": null,
      "outputs": []
    },
    {
      "cell_type": "code",
      "metadata": {
        "id": "X03pmY8PJE1l",
        "colab_type": "code",
        "colab": {
          "base_uri": "https://localhost:8080/",
          "height": 134
        },
        "outputId": "22625d5e-d68e-48ed-d21b-5104f2e41e62"
      },
      "source": [
        "def func_hist_publ(string,col):\n",
        "  q = np.array([int(i) for i in string.split(',')])\n",
        "  return hist_feats1.loc[q,col].sum()\n",
        "\n",
        "df_func_hist_publ = pd.DataFrame(np.zeros([df_test.shape[0], 21]).astype(int), columns=np.array(np.arange(1,22)))\n",
        "\n",
        "for p in range(1,22):\n",
        "  df_func_hist_publ.iloc[:, p-1] = df_test.user_ids.apply(func_hist_publ, col=p)\n",
        "\n",
        "df_hist_feats1 = pd.DataFrame(df_func_hist_publ.astype(int))\n",
        "df_hist_feats1 = df_hist_feats1.merge(df_test['publishers'].apply(lambda x: [int(i) for i in x.split(',')]), left_index=True, right_index=True)"
      ],
      "execution_count": null,
      "outputs": [
        {
          "output_type": "stream",
          "text": [
            "/usr/local/lib/python3.6/dist-packages/pandas/core/indexing.py:961: FutureWarning: \n",
            "Passing list-likes to .loc or [] with any missing label will raise\n",
            "KeyError in the future, you can use .reindex() as an alternative.\n",
            "\n",
            "See the documentation here:\n",
            "https://pandas.pydata.org/pandas-docs/stable/user_guide/indexing.html#deprecate-loc-reindex-listlike\n",
            "  return getattr(section, self.name)[new_key]\n"
          ],
          "name": "stderr"
        }
      ]
    },
    {
      "cell_type": "code",
      "metadata": {
        "id": "vNYa3WqbJE8R",
        "colab_type": "code",
        "colab": {}
      },
      "source": [
        "def func_publ_ratio(series):\n",
        "  pr = []\n",
        "  for i in series['publishers']:\n",
        "    pr.append(series[i])\n",
        "  return sum(pr)/series[:-1].sum()\n",
        "\n",
        "publ_ratio = df_hist_feats1.apply(func_publ_ratio, axis=1)\n",
        "p_one = df_hist_feats1['publishers'].apply(lambda x: sum(1 for i in x if i==1))\n",
        "df_publishers = pd.DataFrame({'publ_ratio':publ_ratio, 'p_one': p_one})"
      ],
      "execution_count": null,
      "outputs": []
    },
    {
      "cell_type": "code",
      "metadata": {
        "id": "ccA_VHrtAhTX",
        "colab_type": "code",
        "colab": {}
      },
      "source": [
        "# TIME FEATURES\n",
        "df_history['days'] = df_history.hour//24\n",
        "workdays = set(range(0,200)) - (set(range(5,200,7)) | set(range(6,200,7)))\n",
        "holidays = set(range(5,200,7)) | set(range(6,200,7))\n",
        "df_history['workdays'] = df_history['days'].apply(lambda x: 1 if x in workdays else 0)\n",
        "df_history['holidays'] = df_history['days'].apply(lambda x: 1 if x in holidays else 0)"
      ],
      "execution_count": null,
      "outputs": []
    },
    {
      "cell_type": "code",
      "metadata": {
        "id": "tEltg5VP4rzU",
        "colab_type": "code",
        "colab": {}
      },
      "source": [
        "df_test['days_start'] = df_test.hour_start//24\n",
        "df_test['days_end'] = df_test.hour_end//24\n",
        "def func_days_test(series):\n",
        "  return list(range(series.loc['days_start'], series.loc['days_end']+1))\n",
        "df_test['days'] = df_test.apply(func_days_test, axis=1)\n",
        "def func_ratio_workdays(days):\n",
        "  wd = sum(1 for i in days if i in workdays)\n",
        "  return wd/len(days)\n",
        "df_test['ratio_workdays'] = df_test['days'].apply(func_ratio_workdays)\n",
        "\n",
        "df_hist2 = df_history[['workdays', 'holidays','user_id']].groupby('user_id').sum().astype(int)\n",
        "df_hist2['all_days'] = df_hist2.workdays+df_hist2.holidays\n",
        "df_hist2['rratio'] = df_hist2.workdays/df_hist2.all_days\n",
        "df_hist2['aratio'] = df_hist2['rratio']*df_hist2.workdays"
      ],
      "execution_count": null,
      "outputs": []
    },
    {
      "cell_type": "code",
      "metadata": {
        "id": "YIP_8j9t5L0m",
        "colab_type": "code",
        "colab": {
          "base_uri": "https://localhost:8080/",
          "height": 134
        },
        "outputId": "bed7e6f1-a8eb-4a24-bd6d-860ed1b71a31"
      },
      "source": [
        "def func_hist2_count(string):\n",
        "  q = np.array([int(i) for i in string.split(',')])\n",
        "  return df_hist2.loc[q,'aratio'].sum()/len(q)\n",
        "\n",
        "df_func_hist2_count = df_test.user_ids.apply(func_hist2_count)\n",
        "df_func_hist2_count = df_test.user_ids.apply(func_hist_count)\n",
        "df_hist2_feats = pd.DataFrame({'history_workdays_ratio':df_func_hist2_count})\n",
        "\n",
        "df_test.drop(['days_start','days', 'days_end'], inplace=True, axis=1)\n"
      ],
      "execution_count": null,
      "outputs": [
        {
          "output_type": "stream",
          "text": [
            "/usr/local/lib/python3.6/dist-packages/pandas/core/indexing.py:961: FutureWarning: \n",
            "Passing list-likes to .loc or [] with any missing label will raise\n",
            "KeyError in the future, you can use .reindex() as an alternative.\n",
            "\n",
            "See the documentation here:\n",
            "https://pandas.pydata.org/pandas-docs/stable/user_guide/indexing.html#deprecate-loc-reindex-listlike\n",
            "  return getattr(section, self.name)[new_key]\n"
          ],
          "name": "stderr"
        }
      ]
    },
    {
      "cell_type": "markdown",
      "metadata": {
        "id": "UcsZfboRVfcg",
        "colab_type": "text"
      },
      "source": [
        "# SUMMARY"
      ]
    },
    {
      "cell_type": "code",
      "metadata": {
        "id": "7W_kPiV7hJ_q",
        "colab_type": "code",
        "colab": {}
      },
      "source": [
        "df_test1 = df_test.drop(['publishers', 'user_ids'], axis=1)\n",
        "df_test1 = df_test1.drop(['hour_start', 'hour_end'], axis=1)\n",
        "df_test1 = df_test1.merge(df_delta_hour, left_index=True, right_index=True)\n",
        "df_test1 = df_test1.merge(df_hist_feats, left_index=True, right_index=True)\n",
        "df_test1 = df_test1.merge(df_publishers, left_index=True, right_index=True)\n",
        "\n",
        "df_test1 = df_test1.merge(df_hist2_feats, left_index=True, right_index=True)\n",
        "df_test1['mm'] = df_test1.ratio_workdays*df_test1.history_workdays_ratio\n",
        "# DF1 = DF1.merge(df_audsize_delta, left_index=True, right_index=True)\n",
        "# DF1 = DF1.merge(df_cpm_delta, left_index=True, right_index=True)"
      ],
      "execution_count": null,
      "outputs": []
    },
    {
      "cell_type": "markdown",
      "metadata": {
        "id": "28hT0MMP6NxX",
        "colab_type": "text"
      },
      "source": [
        "# MERTIC"
      ]
    },
    {
      "cell_type": "code",
      "metadata": {
        "id": "utD7rIXmRoMk",
        "colab_type": "code",
        "colab": {}
      },
      "source": [
        "# # METRIC\n",
        "# def get_smoothed_log_mape_column_value(responses_column, answers_column, epsilon):\n",
        "#     return np.abs(np.log((responses_column + epsilon)/(answers_column + epsilon) )).mean()\n",
        "\n",
        "\n",
        "# def get_smoothed_mean_log_accuracy_ratio(answers, responses, epsilon=0.005):\n",
        "#     log_accuracy_ratio_mean = np.array(\n",
        "#         [   get_smoothed_log_mape_column_value(responses.at_least_one, answers.at_least_one, epsilon),\n",
        "#             get_smoothed_log_mape_column_value(responses.at_least_two, answers.at_least_two, epsilon),\n",
        "#             get_smoothed_log_mape_column_value(responses.at_least_three, answers.at_least_three, epsilon)]).mean()\n",
        "\n",
        "#     percentage_error = 100 * (np.exp(log_accuracy_ratio_mean) - 1)\n",
        "#     return percentage_error.round(decimals=2)\n",
        "# answers = pd.read_csv(r'/content/drive/My Drive/vkcup/validate_answers.tsv', delimiter='\\t')\n",
        "# print(get_smoothed_mean_log_accuracy_ratio(answers, prediction))"
      ],
      "execution_count": null,
      "outputs": []
    },
    {
      "cell_type": "markdown",
      "metadata": {
        "id": "DcI_iYk8VxEo",
        "colab_type": "text"
      },
      "source": [
        "# FIT MODELS BLOCK"
      ]
    },
    {
      "cell_type": "code",
      "metadata": {
        "id": "E3FCfSfEY8K4",
        "colab_type": "code",
        "colab": {}
      },
      "source": [
        "# # CROSS-VALIDATION INDEXES\n",
        "# n = set(range(1008))\n",
        "# fold1_v = list(np.random.choice(list(n), 252, replace=False))\n",
        "# n -= set(fold1_v)\n",
        "# fold1_t = list(set(range(1008))-set(fold1_v))\n",
        "\n",
        "# fold2_v = list(np.random.choice(list(n), 252, replace=False))\n",
        "# n -= set(fold2_v)\n",
        "# fold2_t = list(set(range(1008))-set(fold2_v))\n",
        "\n",
        "# fold3_v = list(np.random.choice(list(n), 252, replace=False))\n",
        "# n -= set(fold3_v)\n",
        "# fold3_t = list(set(range(1008))-set(fold3_v))\n",
        "\n",
        "# fold4_v = list(n)\n",
        "# fold4_t = list(set(range(1008))-set(fold4_v))\n",
        "# folds = ((fold1_t, fold1_v), (fold2_t, fold2_v), (fold3_t, fold3_v), (fold4_t, fold4_v),)"
      ],
      "execution_count": null,
      "outputs": []
    },
    {
      "cell_type": "code",
      "metadata": {
        "id": "QdU5da50Y8tL",
        "colab_type": "code",
        "colab": {}
      },
      "source": [
        "# # CROSS-VALIDATION SCORE\n",
        "# score = []\n",
        "# for i in folds:\n",
        "#   ctr1 = CatBoostRegressor(early_stopping_rounds=10, loss_function='MAE')\n",
        "#   ctr2 = CatBoostRegressor(early_stopping_rounds=10, loss_function='MAE')\n",
        "#   ctr3 = CatBoostRegressor(early_stopping_rounds=10, loss_function='MAE')\n",
        "\n",
        "#   ctr1.fit(df_test1.iloc[i[0],:], answers.at_least_one.iloc[i[0]], eval_set=(df_test1.iloc[i[1],:], answers.at_least_one.iloc[i[1]]), verbose=False)\n",
        "#   ctr2.fit(df_test1.iloc[i[0],:], answers.at_least_two.iloc[i[0]], eval_set=(df_test1.iloc[i[1],:], answers.at_least_two.iloc[i[1]]), verbose=False)\n",
        "#   ctr3.fit(df_test1.iloc[i[0],:], answers.at_least_three.iloc[i[0]], eval_set=(df_test1.iloc[i[1],:], answers.at_least_three.iloc[i[1]]), verbose=False)\n",
        "\n",
        "#   pred1 = ctr1.predict(df_test1).clip(0.0000001,1)\n",
        "#   pred2 = ctr2.predict(df_test1).clip(0.0000001,1)\n",
        "#   pred3 = ctr3.predict(df_test1).clip(0.0000001,1)\n",
        "#   predictions = pd.DataFrame({'at_least_one':pred1,'at_least_two':pred2, 'at_least_three':pred3})\n",
        "#   print(ctr1.best_score_, ctr1.tree_count_)\n",
        "#   print(ctr2.best_score_, ctr2.tree_count_)\n",
        "#   print(ctr3.best_score_, ctr3.tree_count_)\n",
        "#   print(get_smoothed_mean_log_accuracy_ratio(answers, predictions))\n",
        "#   score.append(get_smoothed_mean_log_accuracy_ratio(answers, predictions))\n",
        "# print(score, sum(score)/4)"
      ],
      "execution_count": null,
      "outputs": []
    },
    {
      "cell_type": "code",
      "metadata": {
        "id": "hU2HIol0WOlD",
        "colab_type": "code",
        "colab": {
          "base_uri": "https://localhost:8080/",
          "height": 34
        },
        "outputId": "552f4c1b-86c3-494d-dda8-c00a61114505"
      },
      "source": [
        "# # FULL_DF FIT/PREDICT\n",
        "# ctr1 = CatBoostRegressor(early_stopping_rounds=10, loss_function='MAE')\n",
        "# ctr2 = CatBoostRegressor(early_stopping_rounds=10, loss_function='MAE')\n",
        "# ctr3 = CatBoostRegressor(early_stopping_rounds=10, loss_function='MAE')\n",
        "# ctr1.fit(df_test1, answers.at_least_one, verbose=False)\n",
        "# ctr2.fit(df_test1, answers.at_least_two, verbose=False)\n",
        "# ctr3.fit(df_test1, answers.at_least_three, verbose=False)\n",
        "# pred1 = ctr1.predict(df_test1).clip(0.0000001,1)\n",
        "# pred2 = ctr2.predict(df_test1).clip(0.0000001,1)\n",
        "# pred3 = ctr3.predict(df_test1).clip(0.0000001,1)\n",
        "# prediction = pd.DataFrame({'at_least_one':pred1,'at_least_two':pred2, 'at_least_three':pred3})\n",
        "# print(get_smoothed_mean_log_accuracy_ratio(answers, prediction))"
      ],
      "execution_count": null,
      "outputs": [
        {
          "output_type": "stream",
          "text": [
            "7.82\n"
          ],
          "name": "stdout"
        }
      ]
    },
    {
      "cell_type": "code",
      "metadata": {
        "id": "_Wc9tXPyWOsH",
        "colab_type": "code",
        "colab": {}
      },
      "source": [
        "# # SAVE MODELS\n",
        "# ctr1.save_model(r'/content/drive/My Drive/vkcup/ctr1')\n",
        "# ctr2.save_model(r'/content/drive/My Drive/vkcup/ctr2')\n",
        "# ctr3.save_model(r'/content/drive/My Drive/vkcup/ctr3')"
      ],
      "execution_count": null,
      "outputs": []
    },
    {
      "cell_type": "markdown",
      "metadata": {
        "id": "N7UtcAn3Vl32",
        "colab_type": "text"
      },
      "source": [
        "# PREDICTION"
      ]
    },
    {
      "cell_type": "code",
      "metadata": {
        "id": "5flUEWaZr9y5",
        "colab_type": "code",
        "colab": {
          "base_uri": "https://localhost:8080/",
          "height": 34
        },
        "outputId": "dce559a0-932a-4ea4-9535-31bf4903cecc"
      },
      "source": [
        "# LOAD MODELS\n",
        "ctr1 = CatBoostRegressor(early_stopping_rounds=10)\n",
        "ctr2 = CatBoostRegressor(early_stopping_rounds=10)\n",
        "ctr3 = CatBoostRegressor(early_stopping_rounds=10)\n",
        "ctr1.load_model(r'/content/drive/My Drive/vkcup/ctr1')\n",
        "ctr2.load_model(r'/content/drive/My Drive/vkcup/ctr2')\n",
        "ctr3.load_model(r'/content/drive/My Drive/vkcup/ctr3')"
      ],
      "execution_count": null,
      "outputs": [
        {
          "output_type": "execute_result",
          "data": {
            "text/plain": [
              "<catboost.core.CatBoostRegressor at 0x7f0b3a0aa438>"
            ]
          },
          "metadata": {
            "tags": []
          },
          "execution_count": 79
        }
      ]
    },
    {
      "cell_type": "code",
      "metadata": {
        "id": "0DhfaLDIRORh",
        "colab_type": "code",
        "colab": {}
      },
      "source": [
        "# PREDICTION\n",
        "pred10 = ctr1.predict(df_test1).clip(0.0000001,1)\n",
        "pred20 = ctr2.predict(df_test1).clip(0.0000001,1)\n",
        "pred30 = ctr3.predict(df_test1).clip(0.0000001,1)\n",
        "prediction = pd.DataFrame({'at_least_one':pred10,'at_least_two':pred20, 'at_least_three':pred30})"
      ],
      "execution_count": null,
      "outputs": []
    },
    {
      "cell_type": "code",
      "metadata": {
        "id": "9Zq5JgslT0lS",
        "colab_type": "code",
        "colab": {}
      },
      "source": [
        "# SAVE RESULT\n",
        "prediction.to_csv(r'/content/drive/My Drive/vkcup/results.tsv', sep='\\t', index=False, header=True)"
      ],
      "execution_count": null,
      "outputs": []
    }
  ]
}